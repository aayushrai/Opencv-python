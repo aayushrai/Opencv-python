{
 "cells": [
  {
   "cell_type": "code",
   "execution_count": 1,
   "metadata": {},
   "outputs": [
    {
     "name": "stderr",
     "output_type": "stream",
     "text": [
      "Using TensorFlow backend.\n"
     ]
    }
   ],
   "source": [
    "from keras.datasets import mnist"
   ]
  },
  {
   "cell_type": "code",
   "execution_count": 2,
   "metadata": {},
   "outputs": [
    {
     "name": "stdout",
     "output_type": "stream",
     "text": [
      "Downloading data from https://s3.amazonaws.com/img-datasets/mnist.npz\n",
      "11493376/11490434 [==============================] - 252s 22us/step\n"
     ]
    }
   ],
   "source": [
    "(x_train,y_train),(x_test,y_test) = mnist.load_data()"
   ]
  },
  {
   "cell_type": "code",
   "execution_count": 3,
   "metadata": {},
   "outputs": [],
   "source": [
    "import matplotlib.pyplot as plt"
   ]
  },
  {
   "cell_type": "code",
   "execution_count": 4,
   "metadata": {},
   "outputs": [
    {
     "data": {
      "text/plain": [
       "(60000, 28, 28)"
      ]
     },
     "execution_count": 4,
     "metadata": {},
     "output_type": "execute_result"
    }
   ],
   "source": [
    "x_train.shape"
   ]
  },
  {
   "cell_type": "code",
   "execution_count": 5,
   "metadata": {},
   "outputs": [],
   "source": [
    "single_image = x_train[0]"
   ]
  },
  {
   "cell_type": "code",
   "execution_count": 6,
   "metadata": {},
   "outputs": [
    {
     "data": {
      "text/plain": [
       "array([[  0,   0,   0,   0,   0,   0,   0,   0,   0,   0,   0,   0,   0,\n",
       "          0,   0,   0,   0,   0,   0,   0,   0,   0,   0,   0,   0,   0,\n",
       "          0,   0],\n",
       "       [  0,   0,   0,   0,   0,   0,   0,   0,   0,   0,   0,   0,   0,\n",
       "          0,   0,   0,   0,   0,   0,   0,   0,   0,   0,   0,   0,   0,\n",
       "          0,   0],\n",
       "       [  0,   0,   0,   0,   0,   0,   0,   0,   0,   0,   0,   0,   0,\n",
       "          0,   0,   0,   0,   0,   0,   0,   0,   0,   0,   0,   0,   0,\n",
       "          0,   0],\n",
       "       [  0,   0,   0,   0,   0,   0,   0,   0,   0,   0,   0,   0,   0,\n",
       "          0,   0,   0,   0,   0,   0,   0,   0,   0,   0,   0,   0,   0,\n",
       "          0,   0],\n",
       "       [  0,   0,   0,   0,   0,   0,   0,   0,   0,   0,   0,   0,   0,\n",
       "          0,   0,   0,   0,   0,   0,   0,   0,   0,   0,   0,   0,   0,\n",
       "          0,   0],\n",
       "       [  0,   0,   0,   0,   0,   0,   0,   0,   0,   0,   0,   0,   3,\n",
       "         18,  18,  18, 126, 136, 175,  26, 166, 255, 247, 127,   0,   0,\n",
       "          0,   0],\n",
       "       [  0,   0,   0,   0,   0,   0,   0,   0,  30,  36,  94, 154, 170,\n",
       "        253, 253, 253, 253, 253, 225, 172, 253, 242, 195,  64,   0,   0,\n",
       "          0,   0],\n",
       "       [  0,   0,   0,   0,   0,   0,   0,  49, 238, 253, 253, 253, 253,\n",
       "        253, 253, 253, 253, 251,  93,  82,  82,  56,  39,   0,   0,   0,\n",
       "          0,   0],\n",
       "       [  0,   0,   0,   0,   0,   0,   0,  18, 219, 253, 253, 253, 253,\n",
       "        253, 198, 182, 247, 241,   0,   0,   0,   0,   0,   0,   0,   0,\n",
       "          0,   0],\n",
       "       [  0,   0,   0,   0,   0,   0,   0,   0,  80, 156, 107, 253, 253,\n",
       "        205,  11,   0,  43, 154,   0,   0,   0,   0,   0,   0,   0,   0,\n",
       "          0,   0],\n",
       "       [  0,   0,   0,   0,   0,   0,   0,   0,   0,  14,   1, 154, 253,\n",
       "         90,   0,   0,   0,   0,   0,   0,   0,   0,   0,   0,   0,   0,\n",
       "          0,   0],\n",
       "       [  0,   0,   0,   0,   0,   0,   0,   0,   0,   0,   0, 139, 253,\n",
       "        190,   2,   0,   0,   0,   0,   0,   0,   0,   0,   0,   0,   0,\n",
       "          0,   0],\n",
       "       [  0,   0,   0,   0,   0,   0,   0,   0,   0,   0,   0,  11, 190,\n",
       "        253,  70,   0,   0,   0,   0,   0,   0,   0,   0,   0,   0,   0,\n",
       "          0,   0],\n",
       "       [  0,   0,   0,   0,   0,   0,   0,   0,   0,   0,   0,   0,  35,\n",
       "        241, 225, 160, 108,   1,   0,   0,   0,   0,   0,   0,   0,   0,\n",
       "          0,   0],\n",
       "       [  0,   0,   0,   0,   0,   0,   0,   0,   0,   0,   0,   0,   0,\n",
       "         81, 240, 253, 253, 119,  25,   0,   0,   0,   0,   0,   0,   0,\n",
       "          0,   0],\n",
       "       [  0,   0,   0,   0,   0,   0,   0,   0,   0,   0,   0,   0,   0,\n",
       "          0,  45, 186, 253, 253, 150,  27,   0,   0,   0,   0,   0,   0,\n",
       "          0,   0],\n",
       "       [  0,   0,   0,   0,   0,   0,   0,   0,   0,   0,   0,   0,   0,\n",
       "          0,   0,  16,  93, 252, 253, 187,   0,   0,   0,   0,   0,   0,\n",
       "          0,   0],\n",
       "       [  0,   0,   0,   0,   0,   0,   0,   0,   0,   0,   0,   0,   0,\n",
       "          0,   0,   0,   0, 249, 253, 249,  64,   0,   0,   0,   0,   0,\n",
       "          0,   0],\n",
       "       [  0,   0,   0,   0,   0,   0,   0,   0,   0,   0,   0,   0,   0,\n",
       "          0,  46, 130, 183, 253, 253, 207,   2,   0,   0,   0,   0,   0,\n",
       "          0,   0],\n",
       "       [  0,   0,   0,   0,   0,   0,   0,   0,   0,   0,   0,   0,  39,\n",
       "        148, 229, 253, 253, 253, 250, 182,   0,   0,   0,   0,   0,   0,\n",
       "          0,   0],\n",
       "       [  0,   0,   0,   0,   0,   0,   0,   0,   0,   0,  24, 114, 221,\n",
       "        253, 253, 253, 253, 201,  78,   0,   0,   0,   0,   0,   0,   0,\n",
       "          0,   0],\n",
       "       [  0,   0,   0,   0,   0,   0,   0,   0,  23,  66, 213, 253, 253,\n",
       "        253, 253, 198,  81,   2,   0,   0,   0,   0,   0,   0,   0,   0,\n",
       "          0,   0],\n",
       "       [  0,   0,   0,   0,   0,   0,  18, 171, 219, 253, 253, 253, 253,\n",
       "        195,  80,   9,   0,   0,   0,   0,   0,   0,   0,   0,   0,   0,\n",
       "          0,   0],\n",
       "       [  0,   0,   0,   0,  55, 172, 226, 253, 253, 253, 253, 244, 133,\n",
       "         11,   0,   0,   0,   0,   0,   0,   0,   0,   0,   0,   0,   0,\n",
       "          0,   0],\n",
       "       [  0,   0,   0,   0, 136, 253, 253, 253, 212, 135, 132,  16,   0,\n",
       "          0,   0,   0,   0,   0,   0,   0,   0,   0,   0,   0,   0,   0,\n",
       "          0,   0],\n",
       "       [  0,   0,   0,   0,   0,   0,   0,   0,   0,   0,   0,   0,   0,\n",
       "          0,   0,   0,   0,   0,   0,   0,   0,   0,   0,   0,   0,   0,\n",
       "          0,   0],\n",
       "       [  0,   0,   0,   0,   0,   0,   0,   0,   0,   0,   0,   0,   0,\n",
       "          0,   0,   0,   0,   0,   0,   0,   0,   0,   0,   0,   0,   0,\n",
       "          0,   0],\n",
       "       [  0,   0,   0,   0,   0,   0,   0,   0,   0,   0,   0,   0,   0,\n",
       "          0,   0,   0,   0,   0,   0,   0,   0,   0,   0,   0,   0,   0,\n",
       "          0,   0]], dtype=uint8)"
      ]
     },
     "execution_count": 6,
     "metadata": {},
     "output_type": "execute_result"
    }
   ],
   "source": [
    "single_image\n"
   ]
  },
  {
   "cell_type": "code",
   "execution_count": 8,
   "metadata": {},
   "outputs": [
    {
     "data": {
      "text/plain": [
       "<matplotlib.image.AxesImage at 0x22c48c875f8>"
      ]
     },
     "execution_count": 8,
     "metadata": {},
     "output_type": "execute_result"
    },
    {
     "data": {
      "image/png": "[encoded data removed]",
      "text/plain": [
       "<Figure size 432x288 with 1 Axes>"
      ]
     },
     "metadata": {
      "needs_background": "light"
     },
     "output_type": "display_data"
    }
   ],
   "source": [
    "plt.imshow(single_image,cmap=\"gray\")"
   ]
  },
  {
   "cell_type": "code",
   "execution_count": 9,
   "metadata": {},
   "outputs": [
    {
     "data": {
      "text/plain": [
       "array([5, 0, 4, ..., 5, 6, 8], dtype=uint8)"
      ]
     },
     "execution_count": 9,
     "metadata": {},
     "output_type": "execute_result"
    }
   ],
   "source": [
    "y_train"
   ]
  },
  {
   "cell_type": "code",
   "execution_count": 10,
   "metadata": {},
   "outputs": [],
   "source": [
    "from keras.utils.np_utils import to_categorical"
   ]
  },
  {
   "cell_type": "code",
   "execution_count": 12,
   "metadata": {},
   "outputs": [],
   "source": [
    "y_cat_test = to_categorical(y_test,10)          # 10 is numbers of classes"
   ]
  },
  {
   "cell_type": "code",
   "execution_count": 15,
   "metadata": {},
   "outputs": [],
   "source": [
    "y_cat_train = to_categorical(y_train,10)        # 2 --> 0,0,1,0,0,0,0,0,0,0"
   ]
  },
  {
   "cell_type": "code",
   "execution_count": 16,
   "metadata": {},
   "outputs": [
    {
     "data": {
      "text/plain": [
       "array([[0., 0., 0., ..., 0., 0., 0.],\n",
       "       [1., 0., 0., ..., 0., 0., 0.],\n",
       "       [0., 0., 0., ..., 0., 0., 0.],\n",
       "       ...,\n",
       "       [0., 0., 0., ..., 0., 0., 0.],\n",
       "       [0., 0., 0., ..., 0., 0., 0.],\n",
       "       [0., 0., 0., ..., 0., 1., 0.]], dtype=float32)"
      ]
     },
     "execution_count": 16,
     "metadata": {},
     "output_type": "execute_result"
    }
   ],
   "source": [
    "y_cat_train\n"
   ]
  },
  {
   "cell_type": "code",
   "execution_count": 17,
   "metadata": {},
   "outputs": [
    {
     "data": {
      "text/plain": [
       "255"
      ]
     },
     "execution_count": 17,
     "metadata": {},
     "output_type": "execute_result"
    }
   ],
   "source": [
    "single_image.max()"
   ]
  },
  {
   "cell_type": "code",
   "execution_count": 19,
   "metadata": {},
   "outputs": [],
   "source": [
    "x_train = x_train/x_train.max()  #convert range(0,255) to (0,1)"
   ]
  },
  {
   "cell_type": "code",
   "execution_count": 20,
   "metadata": {},
   "outputs": [],
   "source": [
    "x_test = x_test/x_test.max()"
   ]
  },
  {
   "cell_type": "code",
   "execution_count": 21,
   "metadata": {},
   "outputs": [
    {
     "data": {
      "text/plain": [
       "array([[0.        , 0.        , 0.        , 0.        , 0.        ,\n",
       "        0.        , 0.        , 0.        , 0.        , 0.        ,\n",
       "        0.        , 0.        , 0.        , 0.        , 0.        ,\n",
       "        0.        , 0.        , 0.        , 0.        , 0.        ,\n",
       "        0.        , 0.        , 0.        , 0.        , 0.        ,\n",
       "        0.        , 0.        , 0.        ],\n",
       "       [0.        , 0.        , 0.        , 0.        , 0.        ,\n",
       "        0.        , 0.        , 0.        , 0.        , 0.        ,\n",
       "        0.        , 0.        , 0.        , 0.        , 0.        ,\n",
       "        0.        , 0.        , 0.        , 0.        , 0.        ,\n",
       "        0.        , 0.        , 0.        , 0.        , 0.        ,\n",
       "        0.        , 0.        , 0.        ],\n",
       "       [0.        , 0.        , 0.        , 0.        , 0.        ,\n",
       "        0.        , 0.        , 0.        , 0.        , 0.        ,\n",
       "        0.        , 0.        , 0.        , 0.        , 0.        ,\n",
       "        0.        , 0.        , 0.        , 0.        , 0.        ,\n",
       "        0.        , 0.        , 0.        , 0.        , 0.        ,\n",
       "        0.        , 0.        , 0.        ],\n",
       "       [0.        , 0.        , 0.        , 0.        , 0.        ,\n",
       "        0.        , 0.        , 0.        , 0.        , 0.        ,\n",
       "        0.        , 0.        , 0.        , 0.        , 0.        ,\n",
       "        0.        , 0.        , 0.        , 0.        , 0.        ,\n",
       "        0.        , 0.        , 0.        , 0.        , 0.        ,\n",
       "        0.        , 0.        , 0.        ],\n",
       "       [0.        , 0.        , 0.        , 0.        , 0.        ,\n",
       "        0.        , 0.        , 0.        , 0.        , 0.        ,\n",
       "        0.        , 0.        , 0.        , 0.        , 0.        ,\n",
       "        0.        , 0.        , 0.        , 0.        , 0.        ,\n",
       "        0.        , 0.        , 0.        , 0.        , 0.        ,\n",
       "        0.        , 0.        , 0.        ],\n",
       "       [0.        , 0.        , 0.        , 0.        , 0.        ,\n",
       "        0.        , 0.        , 0.        , 0.        , 0.        ,\n",
       "        0.        , 0.        , 0.01176471, 0.07058824, 0.07058824,\n",
       "        0.07058824, 0.49411765, 0.53333333, 0.68627451, 0.10196078,\n",
       "        0.65098039, 1.        , 0.96862745, 0.49803922, 0.        ,\n",
       "        0.        , 0.        , 0.        ],\n",
       "       [0.        , 0.        , 0.        , 0.        , 0.        ,\n",
       "        0.        , 0.        , 0.        , 0.11764706, 0.14117647,\n",
       "        0.36862745, 0.60392157, 0.66666667, 0.99215686, 0.99215686,\n",
       "        0.99215686, 0.99215686, 0.99215686, 0.88235294, 0.6745098 ,\n",
       "        0.99215686, 0.94901961, 0.76470588, 0.25098039, 0.        ,\n",
       "        0.        , 0.        , 0.        ],\n",
       "       [0.        , 0.        , 0.        , 0.        , 0.        ,\n",
       "        0.        , 0.        , 0.19215686, 0.93333333, 0.99215686,\n",
       "        0.99215686, 0.99215686, 0.99215686, 0.99215686, 0.99215686,\n",
       "        0.99215686, 0.99215686, 0.98431373, 0.36470588, 0.32156863,\n",
       "        0.32156863, 0.21960784, 0.15294118, 0.        , 0.        ,\n",
       "        0.        , 0.        , 0.        ],\n",
       "       [0.        , 0.        , 0.        , 0.        , 0.        ,\n",
       "        0.        , 0.        , 0.07058824, 0.85882353, 0.99215686,\n",
       "        0.99215686, 0.99215686, 0.99215686, 0.99215686, 0.77647059,\n",
       "        0.71372549, 0.96862745, 0.94509804, 0.        , 0.        ,\n",
       "        0.        , 0.        , 0.        , 0.        , 0.        ,\n",
       "        0.        , 0.        , 0.        ],\n",
       "       [0.        , 0.        , 0.        , 0.        , 0.        ,\n",
       "        0.        , 0.        , 0.        , 0.31372549, 0.61176471,\n",
       "        0.41960784, 0.99215686, 0.99215686, 0.80392157, 0.04313725,\n",
       "        0.        , 0.16862745, 0.60392157, 0.        , 0.        ,\n",
       "        0.        , 0.        , 0.        , 0.        , 0.        ,\n",
       "        0.        , 0.        , 0.        ],\n",
       "       [0.        , 0.        , 0.        , 0.        , 0.        ,\n",
       "        0.        , 0.        , 0.        , 0.        , 0.05490196,\n",
       "        0.00392157, 0.60392157, 0.99215686, 0.35294118, 0.        ,\n",
       "        0.        , 0.        , 0.        , 0.        , 0.        ,\n",
       "        0.        , 0.        , 0.        , 0.        , 0.        ,\n",
       "        0.        , 0.        , 0.        ],\n",
       "       [0.        , 0.        , 0.        , 0.        , 0.        ,\n",
       "        0.        , 0.        , 0.        , 0.        , 0.        ,\n",
       "        0.        , 0.54509804, 0.99215686, 0.74509804, 0.00784314,\n",
       "        0.        , 0.        , 0.        , 0.        , 0.        ,\n",
       "        0.        , 0.        , 0.        , 0.        , 0.        ,\n",
       "        0.        , 0.        , 0.        ],\n",
       "       [0.        , 0.        , 0.        , 0.        , 0.        ,\n",
       "        0.        , 0.        , 0.        , 0.        , 0.        ,\n",
       "        0.        , 0.04313725, 0.74509804, 0.99215686, 0.2745098 ,\n",
       "        0.        , 0.        , 0.        , 0.        , 0.        ,\n",
       "        0.        , 0.        , 0.        , 0.        , 0.        ,\n",
       "        0.        , 0.        , 0.        ],\n",
       "       [0.        , 0.        , 0.        , 0.        , 0.        ,\n",
       "        0.        , 0.        , 0.        , 0.        , 0.        ,\n",
       "        0.        , 0.        , 0.1372549 , 0.94509804, 0.88235294,\n",
       "        0.62745098, 0.42352941, 0.00392157, 0.        , 0.        ,\n",
       "        0.        , 0.        , 0.        , 0.        , 0.        ,\n",
       "        0.        , 0.        , 0.        ],\n",
       "       [0.        , 0.        , 0.        , 0.        , 0.        ,\n",
       "        0.        , 0.        , 0.        , 0.        , 0.        ,\n",
       "        0.        , 0.        , 0.        , 0.31764706, 0.94117647,\n",
       "        0.99215686, 0.99215686, 0.46666667, 0.09803922, 0.        ,\n",
       "        0.        , 0.        , 0.        , 0.        , 0.        ,\n",
       "        0.        , 0.        , 0.        ],\n",
       "       [0.        , 0.        , 0.        , 0.        , 0.        ,\n",
       "        0.        , 0.        , 0.        , 0.        , 0.        ,\n",
       "        0.        , 0.        , 0.        , 0.        , 0.17647059,\n",
       "        0.72941176, 0.99215686, 0.99215686, 0.58823529, 0.10588235,\n",
       "        0.        , 0.        , 0.        , 0.        , 0.        ,\n",
       "        0.        , 0.        , 0.        ],\n",
       "       [0.        , 0.        , 0.        , 0.        , 0.        ,\n",
       "        0.        , 0.        , 0.        , 0.        , 0.        ,\n",
       "        0.        , 0.        , 0.        , 0.        , 0.        ,\n",
       "        0.0627451 , 0.36470588, 0.98823529, 0.99215686, 0.73333333,\n",
       "        0.        , 0.        , 0.        , 0.        , 0.        ,\n",
       "        0.        , 0.        , 0.        ],\n",
       "       [0.        , 0.        , 0.        , 0.        , 0.        ,\n",
       "        0.        , 0.        , 0.        , 0.        , 0.        ,\n",
       "        0.        , 0.        , 0.        , 0.        , 0.        ,\n",
       "        0.        , 0.        , 0.97647059, 0.99215686, 0.97647059,\n",
       "        0.25098039, 0.        , 0.        , 0.        , 0.        ,\n",
       "        0.        , 0.        , 0.        ],\n",
       "       [0.        , 0.        , 0.        , 0.        , 0.        ,\n",
       "        0.        , 0.        , 0.        , 0.        , 0.        ,\n",
       "        0.        , 0.        , 0.        , 0.        , 0.18039216,\n",
       "        0.50980392, 0.71764706, 0.99215686, 0.99215686, 0.81176471,\n",
       "        0.00784314, 0.        , 0.        , 0.        , 0.        ,\n",
       "        0.        , 0.        , 0.        ],\n",
       "       [0.        , 0.        , 0.        , 0.        , 0.        ,\n",
       "        0.        , 0.        , 0.        , 0.        , 0.        ,\n",
       "        0.        , 0.        , 0.15294118, 0.58039216, 0.89803922,\n",
       "        0.99215686, 0.99215686, 0.99215686, 0.98039216, 0.71372549,\n",
       "        0.        , 0.        , 0.        , 0.        , 0.        ,\n",
       "        0.        , 0.        , 0.        ],\n",
       "       [0.        , 0.        , 0.        , 0.        , 0.        ,\n",
       "        0.        , 0.        , 0.        , 0.        , 0.        ,\n",
       "        0.09411765, 0.44705882, 0.86666667, 0.99215686, 0.99215686,\n",
       "        0.99215686, 0.99215686, 0.78823529, 0.30588235, 0.        ,\n",
       "        0.        , 0.        , 0.        , 0.        , 0.        ,\n",
       "        0.        , 0.        , 0.        ],\n",
       "       [0.        , 0.        , 0.        , 0.        , 0.        ,\n",
       "        0.        , 0.        , 0.        , 0.09019608, 0.25882353,\n",
       "        0.83529412, 0.99215686, 0.99215686, 0.99215686, 0.99215686,\n",
       "        0.77647059, 0.31764706, 0.00784314, 0.        , 0.        ,\n",
       "        0.        , 0.        , 0.        , 0.        , 0.        ,\n",
       "        0.        , 0.        , 0.        ],\n",
       "       [0.        , 0.        , 0.        , 0.        , 0.        ,\n",
       "        0.        , 0.07058824, 0.67058824, 0.85882353, 0.99215686,\n",
       "        0.99215686, 0.99215686, 0.99215686, 0.76470588, 0.31372549,\n",
       "        0.03529412, 0.        , 0.        , 0.        , 0.        ,\n",
       "        0.        , 0.        , 0.        , 0.        , 0.        ,\n",
       "        0.        , 0.        , 0.        ],\n",
       "       [0.        , 0.        , 0.        , 0.        , 0.21568627,\n",
       "        0.6745098 , 0.88627451, 0.99215686, 0.99215686, 0.99215686,\n",
       "        0.99215686, 0.95686275, 0.52156863, 0.04313725, 0.        ,\n",
       "        0.        , 0.        , 0.        , 0.        , 0.        ,\n",
       "        0.        , 0.        , 0.        , 0.        , 0.        ,\n",
       "        0.        , 0.        , 0.        ],\n",
       "       [0.        , 0.        , 0.        , 0.        , 0.53333333,\n",
       "        0.99215686, 0.99215686, 0.99215686, 0.83137255, 0.52941176,\n",
       "        0.51764706, 0.0627451 , 0.        , 0.        , 0.        ,\n",
       "        0.        , 0.        , 0.        , 0.        , 0.        ,\n",
       "        0.        , 0.        , 0.        , 0.        , 0.        ,\n",
       "        0.        , 0.        , 0.        ],\n",
       "       [0.        , 0.        , 0.        , 0.        , 0.        ,\n",
       "        0.        , 0.        , 0.        , 0.        , 0.        ,\n",
       "        0.        , 0.        , 0.        , 0.        , 0.        ,\n",
       "        0.        , 0.        , 0.        , 0.        , 0.        ,\n",
       "        0.        , 0.        , 0.        , 0.        , 0.        ,\n",
       "        0.        , 0.        , 0.        ],\n",
       "       [0.        , 0.        , 0.        , 0.        , 0.        ,\n",
       "        0.        , 0.        , 0.        , 0.        , 0.        ,\n",
       "        0.        , 0.        , 0.        , 0.        , 0.        ,\n",
       "        0.        , 0.        , 0.        , 0.        , 0.        ,\n",
       "        0.        , 0.        , 0.        , 0.        , 0.        ,\n",
       "        0.        , 0.        , 0.        ],\n",
       "       [0.        , 0.        , 0.        , 0.        , 0.        ,\n",
       "        0.        , 0.        , 0.        , 0.        , 0.        ,\n",
       "        0.        , 0.        , 0.        , 0.        , 0.        ,\n",
       "        0.        , 0.        , 0.        , 0.        , 0.        ,\n",
       "        0.        , 0.        , 0.        , 0.        , 0.        ,\n",
       "        0.        , 0.        , 0.        ]])"
      ]
     },
     "execution_count": 21,
     "metadata": {},
     "output_type": "execute_result"
    }
   ],
   "source": [
    "x_train[0]"
   ]
  },
  {
   "cell_type": "code",
   "execution_count": 23,
   "metadata": {},
   "outputs": [
    {
     "data": {
      "text/plain": [
       "<matplotlib.image.AxesImage at 0x22c4a7f7eb8>"
      ]
     },
     "execution_count": 23,
     "metadata": {},
     "output_type": "execute_result"
    },
    {
     "data": {
      "image/png": "[encoded data removed]",
      "text/plain": [
       "<Figure size 432x288 with 1 Axes>"
      ]
     },
     "metadata": {
      "needs_background": "light"
     },
     "output_type": "display_data"
    }
   ],
   "source": [
    "plt.imshow(x_train[0],cmap=\"gray\")"
   ]
  },
  {
   "cell_type": "code",
   "execution_count": 24,
   "metadata": {},
   "outputs": [
    {
     "data": {
      "text/plain": [
       "(60000, 28, 28)"
      ]
     },
     "execution_count": 24,
     "metadata": {},
     "output_type": "execute_result"
    }
   ],
   "source": [
    "x_train.shape"
   ]
  },
  {
   "cell_type": "code",
   "execution_count": 25,
   "metadata": {},
   "outputs": [],
   "source": [
    "x_train = x_train.reshape(60000,28,28,1)"
   ]
  },
  {
   "cell_type": "code",
   "execution_count": 26,
   "metadata": {},
   "outputs": [],
   "source": [
    "x_test = x_test.reshape(10000,28,28,1)"
   ]
  },
  {
   "cell_type": "code",
   "execution_count": 27,
   "metadata": {},
   "outputs": [
    {
     "data": {
      "text/plain": [
       "(10000, 28, 28, 1)"
      ]
     },
     "execution_count": 27,
     "metadata": {},
     "output_type": "execute_result"
    }
   ],
   "source": [
    "x_test.shape"
   ]
  },
  {
   "cell_type": "code",
   "execution_count": 28,
   "metadata": {},
   "outputs": [],
   "source": [
    "from keras.models import Sequential"
   ]
  },
  {
   "cell_type": "code",
   "execution_count": 29,
   "metadata": {},
   "outputs": [],
   "source": [
    "from keras.layers import Dense,Conv2D,MaxPool2D,Flatten"
   ]
  },
  {
   "cell_type": "code",
   "execution_count": 33,
   "metadata": {},
   "outputs": [],
   "source": [
    "model = Sequential()\n",
    "\n",
    "model.add(Conv2D(filters=32,kernel_size=(4,4),input_shape=(28,28,1),activation=\"relu\"))\n",
    "model.add(MaxPool2D(pool_size=(2,2)))\n",
    "model.add(Flatten())\n",
    "model.add(Dense(128,activation=\"relu\"))\n",
    "model.add(Dense(10,activation=\"softmax\"))\n",
    "model.compile(loss=\"categorical_crossentropy\",optimizer=\"rmsprop\",metrics=[\"accuracy\"])"
   ]
  },
  {
   "cell_type": "code",
   "execution_count": 34,
   "metadata": {},
   "outputs": [
    {
     "name": "stdout",
     "output_type": "stream",
     "text": [
      "_________________________________________________________________\n",
      "Layer (type)                 Output Shape              Param #   \n",
      "=================================================================\n",
      "conv2d_3 (Conv2D)            (None, 25, 25, 32)        544       \n",
      "_________________________________________________________________\n",
      "max_pooling2d_2 (MaxPooling2 (None, 12, 12, 32)        0         \n",
      "_________________________________________________________________\n",
      "flatten_2 (Flatten)          (None, 4608)              0         \n",
      "_________________________________________________________________\n",
      "dense_3 (Dense)              (None, 128)               589952    \n",
      "_________________________________________________________________\n",
      "dense_4 (Dense)              (None, 10)                1290      \n",
      "=================================================================\n",
      "Total params: 591,786\n",
      "Trainable params: 591,786\n",
      "Non-trainable params: 0\n",
      "_________________________________________________________________\n"
     ]
    }
   ],
   "source": [
    "model.summary()"
   ]
  },
  {
   "cell_type": "code",
   "execution_count": 35,
   "metadata": {},
   "outputs": [
    {
     "name": "stdout",
     "output_type": "stream",
     "text": [
      "Epoch 1/2\n",
      "60000/60000 [==============================] - 43s 716us/step - loss: 0.1364 - acc: 0.9593\n",
      "Epoch 2/2\n",
      "60000/60000 [==============================] - 43s 718us/step - loss: 0.0487 - acc: 0.9857\n"
     ]
    },
    {
     "data": {
      "text/plain": [
       "<keras.callbacks.History at 0x22c4f67d320>"
      ]
     },
     "execution_count": 35,
     "metadata": {},
     "output_type": "execute_result"
    }
   ],
   "source": [
    "model.fit(x_train,y_cat_train,epochs=2)"
   ]
  },
  {
   "cell_type": "code",
   "execution_count": 36,
   "metadata": {},
   "outputs": [
    {
     "name": "stdout",
     "output_type": "stream",
     "text": [
      "10000/10000 [==============================] - 2s 155us/step\n"
     ]
    },
    {
     "data": {
      "text/plain": [
       "[0.04240119712236337, 0.9862]"
      ]
     },
     "execution_count": 36,
     "metadata": {},
     "output_type": "execute_result"
    }
   ],
   "source": [
    "model.evaluate(x_test,y_cat_test)"
   ]
  },
  {
   "cell_type": "code",
   "execution_count": 37,
   "metadata": {},
   "outputs": [],
   "source": [
    "from sklearn.metrics import classification_report"
   ]
  },
  {
   "cell_type": "code",
   "execution_count": 38,
   "metadata": {},
   "outputs": [],
   "source": [
    "predictions = model.predict_classes(x_test)"
   ]
  },
  {
   "cell_type": "code",
   "execution_count": 40,
   "metadata": {},
   "outputs": [
    {
     "data": {
      "text/plain": [
       "array([[0., 0., 0., ..., 1., 0., 0.],\n",
       "       [0., 0., 1., ..., 0., 0., 0.],\n",
       "       [0., 1., 0., ..., 0., 0., 0.],\n",
       "       ...,\n",
       "       [0., 0., 0., ..., 0., 0., 0.],\n",
       "       [0., 0., 0., ..., 0., 0., 0.],\n",
       "       [0., 0., 0., ..., 0., 0., 0.]], dtype=float32)"
      ]
     },
     "execution_count": 40,
     "metadata": {},
     "output_type": "execute_result"
    }
   ],
   "source": [
    "y_cat_test"
   ]
  },
  {
   "cell_type": "code",
   "execution_count": 42,
   "metadata": {},
   "outputs": [
    {
     "name": "stdout",
     "output_type": "stream",
     "text": [
      "             precision    recall  f1-score   support\n",
      "\n",
      "          0       0.99      0.99      0.99       980\n",
      "          1       0.99      1.00      0.99      1135\n",
      "          2       0.98      0.98      0.98      1032\n",
      "          3       0.99      0.99      0.99      1010\n",
      "          4       0.97      0.99      0.98       982\n",
      "          5       0.99      0.99      0.99       892\n",
      "          6       0.98      0.99      0.98       958\n",
      "          7       0.99      0.98      0.98      1028\n",
      "          8       0.99      0.97      0.98       974\n",
      "          9       0.99      0.98      0.98      1009\n",
      "\n",
      "avg / total       0.99      0.99      0.99     10000\n",
      "\n"
     ]
    }
   ],
   "source": [
    "print(classification_report(y_test,predictions))"
   ]
  },
  {
   "cell_type": "code",
   "execution_count": 84,
   "metadata": {},
   "outputs": [],
   "source": [
    "import cv2\n",
    "img = cv2.imread(\"num.jpg\",0)"
   ]
  },
  {
   "cell_type": "code",
   "execution_count": 85,
   "metadata": {},
   "outputs": [],
   "source": [
    "img = cv2.resize(img,(28,28))"
   ]
  },
  {
   "cell_type": "code",
   "execution_count": 86,
   "metadata": {},
   "outputs": [
    {
     "data": {
      "text/plain": [
       "(28, 28)"
      ]
     },
     "execution_count": 86,
     "metadata": {},
     "output_type": "execute_result"
    }
   ],
   "source": [
    "img.shape\n"
   ]
  },
  {
   "cell_type": "code",
   "execution_count": 87,
   "metadata": {},
   "outputs": [
    {
     "data": {
      "image/png": "[encoded data removed]",
      "text/plain": [
       "<Figure size 432x288 with 1 Axes>"
      ]
     },
     "metadata": {
      "needs_background": "light"
     },
     "output_type": "display_data"
    }
   ],
   "source": [
    "\n",
    "plt.imshow(img,cmap=\"gray\")\n",
    "import numpy as np\n",
    "img = img.reshape(28,28,1)"
   ]
  },
  {
   "cell_type": "code",
   "execution_count": 88,
   "metadata": {},
   "outputs": [],
   "source": [
    "img = img[np.newaxis,:,:,:]/img.max()"
   ]
  },
  {
   "cell_type": "code",
   "execution_count": 89,
   "metadata": {},
   "outputs": [
    {
     "data": {
      "text/plain": [
       "array([[[[1.        ],\n",
       "         [1.        ],\n",
       "         [1.        ],\n",
       "         [1.        ],\n",
       "         [1.        ],\n",
       "         [1.        ],\n",
       "         [1.        ],\n",
       "         [1.        ],\n",
       "         [1.        ],\n",
       "         [1.        ],\n",
       "         [1.        ],\n",
       "         [1.        ],\n",
       "         [1.        ],\n",
       "         [1.        ],\n",
       "         [1.        ],\n",
       "         [1.        ],\n",
       "         [1.        ],\n",
       "         [1.        ],\n",
       "         [1.        ],\n",
       "         [1.        ],\n",
       "         [1.        ],\n",
       "         [1.        ],\n",
       "         [1.        ],\n",
       "         [1.        ],\n",
       "         [1.        ],\n",
       "         [1.        ],\n",
       "         [1.        ],\n",
       "         [1.        ]],\n",
       "\n",
       "        [[1.        ],\n",
       "         [1.        ],\n",
       "         [1.        ],\n",
       "         [1.        ],\n",
       "         [1.        ],\n",
       "         [1.        ],\n",
       "         [1.        ],\n",
       "         [1.        ],\n",
       "         [1.        ],\n",
       "         [1.        ],\n",
       "         [1.        ],\n",
       "         [1.        ],\n",
       "         [1.        ],\n",
       "         [1.        ],\n",
       "         [1.        ],\n",
       "         [1.        ],\n",
       "         [1.        ],\n",
       "         [1.        ],\n",
       "         [1.        ],\n",
       "         [1.        ],\n",
       "         [1.        ],\n",
       "         [1.        ],\n",
       "         [1.        ],\n",
       "         [1.        ],\n",
       "         [1.        ],\n",
       "         [1.        ],\n",
       "         [1.        ],\n",
       "         [1.        ]],\n",
       "\n",
       "        [[1.        ],\n",
       "         [1.        ],\n",
       "         [1.        ],\n",
       "         [1.        ],\n",
       "         [1.        ],\n",
       "         [1.        ],\n",
       "         [1.        ],\n",
       "         [1.        ],\n",
       "         [1.        ],\n",
       "         [1.        ],\n",
       "         [1.        ],\n",
       "         [1.        ],\n",
       "         [1.        ],\n",
       "         [1.        ],\n",
       "         [1.        ],\n",
       "         [1.        ],\n",
       "         [1.        ],\n",
       "         [1.        ],\n",
       "         [1.        ],\n",
       "         [1.        ],\n",
       "         [1.        ],\n",
       "         [1.        ],\n",
       "         [1.        ],\n",
       "         [1.        ],\n",
       "         [1.        ],\n",
       "         [1.        ],\n",
       "         [1.        ],\n",
       "         [1.        ]],\n",
       "\n",
       "        [[1.        ],\n",
       "         [1.        ],\n",
       "         [1.        ],\n",
       "         [1.        ],\n",
       "         [1.        ],\n",
       "         [1.        ],\n",
       "         [1.        ],\n",
       "         [1.        ],\n",
       "         [1.        ],\n",
       "         [1.        ],\n",
       "         [1.        ],\n",
       "         [1.        ],\n",
       "         [1.        ],\n",
       "         [1.        ],\n",
       "         [1.        ],\n",
       "         [1.        ],\n",
       "         [1.        ],\n",
       "         [1.        ],\n",
       "         [1.        ],\n",
       "         [1.        ],\n",
       "         [1.        ],\n",
       "         [1.        ],\n",
       "         [1.        ],\n",
       "         [1.        ],\n",
       "         [1.        ],\n",
       "         [1.        ],\n",
       "         [1.        ],\n",
       "         [1.        ]],\n",
       "\n",
       "        [[1.        ],\n",
       "         [1.        ],\n",
       "         [1.        ],\n",
       "         [1.        ],\n",
       "         [1.        ],\n",
       "         [1.        ],\n",
       "         [1.        ],\n",
       "         [1.        ],\n",
       "         [1.        ],\n",
       "         [1.        ],\n",
       "         [1.        ],\n",
       "         [1.        ],\n",
       "         [1.        ],\n",
       "         [1.        ],\n",
       "         [1.        ],\n",
       "         [1.        ],\n",
       "         [1.        ],\n",
       "         [1.        ],\n",
       "         [1.        ],\n",
       "         [1.        ],\n",
       "         [1.        ],\n",
       "         [1.        ],\n",
       "         [1.        ],\n",
       "         [1.        ],\n",
       "         [1.        ],\n",
       "         [1.        ],\n",
       "         [1.        ],\n",
       "         [1.        ]],\n",
       "\n",
       "        [[1.        ],\n",
       "         [1.        ],\n",
       "         [1.        ],\n",
       "         [1.        ],\n",
       "         [1.        ],\n",
       "         [0.81960784],\n",
       "         [0.70980392],\n",
       "         [0.80784314],\n",
       "         [0.89803922],\n",
       "         [0.89803922],\n",
       "         [0.89803922],\n",
       "         [0.89803922],\n",
       "         [0.89803922],\n",
       "         [0.89803922],\n",
       "         [0.90196078],\n",
       "         [0.95686275],\n",
       "         [0.99607843],\n",
       "         [1.        ],\n",
       "         [1.        ],\n",
       "         [1.        ],\n",
       "         [1.        ],\n",
       "         [1.        ],\n",
       "         [1.        ],\n",
       "         [1.        ],\n",
       "         [1.        ],\n",
       "         [1.        ],\n",
       "         [1.        ],\n",
       "         [1.        ]],\n",
       "\n",
       "        [[1.        ],\n",
       "         [1.        ],\n",
       "         [1.        ],\n",
       "         [1.        ],\n",
       "         [1.        ],\n",
       "         [0.60392157],\n",
       "         [0.28235294],\n",
       "         [0.35686275],\n",
       "         [0.45098039],\n",
       "         [0.45098039],\n",
       "         [0.45098039],\n",
       "         [0.45098039],\n",
       "         [0.45098039],\n",
       "         [0.45098039],\n",
       "         [0.45882353],\n",
       "         [0.56862745],\n",
       "         [0.64705882],\n",
       "         [0.89019608],\n",
       "         [0.98823529],\n",
       "         [1.        ],\n",
       "         [1.        ],\n",
       "         [1.        ],\n",
       "         [1.        ],\n",
       "         [1.        ],\n",
       "         [1.        ],\n",
       "         [1.        ],\n",
       "         [1.        ],\n",
       "         [1.        ]],\n",
       "\n",
       "        [[1.        ],\n",
       "         [1.        ],\n",
       "         [1.        ],\n",
       "         [1.        ],\n",
       "         [1.        ],\n",
       "         [0.71764706],\n",
       "         [0.36078431],\n",
       "         [0.2       ],\n",
       "         [0.13333333],\n",
       "         [0.07843137],\n",
       "         [0.07843137],\n",
       "         [0.07843137],\n",
       "         [0.07843137],\n",
       "         [0.07843137],\n",
       "         [0.08235294],\n",
       "         [0.13333333],\n",
       "         [0.12941176],\n",
       "         [0.5372549 ],\n",
       "         [0.92156863],\n",
       "         [1.        ],\n",
       "         [1.        ],\n",
       "         [1.        ],\n",
       "         [1.        ],\n",
       "         [1.        ],\n",
       "         [1.        ],\n",
       "         [1.        ],\n",
       "         [1.        ],\n",
       "         [1.        ]],\n",
       "\n",
       "        [[1.        ],\n",
       "         [1.        ],\n",
       "         [1.        ],\n",
       "         [1.        ],\n",
       "         [1.        ],\n",
       "         [1.        ],\n",
       "         [0.85882353],\n",
       "         [0.67058824],\n",
       "         [0.54509804],\n",
       "         [0.44705882],\n",
       "         [0.44705882],\n",
       "         [0.44705882],\n",
       "         [0.44705882],\n",
       "         [0.44705882],\n",
       "         [0.43921569],\n",
       "         [0.34901961],\n",
       "         [0.03529412],\n",
       "         [0.21568627],\n",
       "         [0.85490196],\n",
       "         [1.        ],\n",
       "         [1.        ],\n",
       "         [1.        ],\n",
       "         [1.        ],\n",
       "         [1.        ],\n",
       "         [1.        ],\n",
       "         [1.        ],\n",
       "         [1.        ],\n",
       "         [1.        ]],\n",
       "\n",
       "        [[1.        ],\n",
       "         [1.        ],\n",
       "         [1.        ],\n",
       "         [1.        ],\n",
       "         [1.        ],\n",
       "         [1.        ],\n",
       "         [1.        ],\n",
       "         [1.        ],\n",
       "         [1.        ],\n",
       "         [1.        ],\n",
       "         [1.        ],\n",
       "         [1.        ],\n",
       "         [1.        ],\n",
       "         [1.        ],\n",
       "         [0.98039216],\n",
       "         [0.61568627],\n",
       "         [0.05098039],\n",
       "         [0.37647059],\n",
       "         [0.89019608],\n",
       "         [1.        ],\n",
       "         [1.        ],\n",
       "         [1.        ],\n",
       "         [1.        ],\n",
       "         [1.        ],\n",
       "         [1.        ],\n",
       "         [1.        ],\n",
       "         [1.        ],\n",
       "         [1.        ]],\n",
       "\n",
       "        [[1.        ],\n",
       "         [1.        ],\n",
       "         [1.        ],\n",
       "         [1.        ],\n",
       "         [1.        ],\n",
       "         [1.        ],\n",
       "         [1.        ],\n",
       "         [1.        ],\n",
       "         [1.        ],\n",
       "         [1.        ],\n",
       "         [1.        ],\n",
       "         [1.        ],\n",
       "         [1.        ],\n",
       "         [0.99215686],\n",
       "         [0.8745098 ],\n",
       "         [0.03921569],\n",
       "         [0.07843137],\n",
       "         [0.64313725],\n",
       "         [0.94901961],\n",
       "         [1.        ],\n",
       "         [1.        ],\n",
       "         [1.        ],\n",
       "         [1.        ],\n",
       "         [1.        ],\n",
       "         [1.        ],\n",
       "         [1.        ],\n",
       "         [1.        ],\n",
       "         [1.        ]],\n",
       "\n",
       "        [[1.        ],\n",
       "         [1.        ],\n",
       "         [1.        ],\n",
       "         [1.        ],\n",
       "         [1.        ],\n",
       "         [1.        ],\n",
       "         [1.        ],\n",
       "         [1.        ],\n",
       "         [1.        ],\n",
       "         [1.        ],\n",
       "         [1.        ],\n",
       "         [1.        ],\n",
       "         [0.99215686],\n",
       "         [0.90196078],\n",
       "         [0.44705882],\n",
       "         [0.05098039],\n",
       "         [0.49411765],\n",
       "         [0.9372549 ],\n",
       "         [1.        ],\n",
       "         [1.        ],\n",
       "         [1.        ],\n",
       "         [1.        ],\n",
       "         [1.        ],\n",
       "         [1.        ],\n",
       "         [1.        ],\n",
       "         [1.        ],\n",
       "         [1.        ],\n",
       "         [1.        ]],\n",
       "\n",
       "        [[1.        ],\n",
       "         [1.        ],\n",
       "         [1.        ],\n",
       "         [1.        ],\n",
       "         [1.        ],\n",
       "         [1.        ],\n",
       "         [1.        ],\n",
       "         [1.        ],\n",
       "         [1.        ],\n",
       "         [1.        ],\n",
       "         [1.        ],\n",
       "         [0.99607843],\n",
       "         [0.89803922],\n",
       "         [0.42352941],\n",
       "         [0.02745098],\n",
       "         [0.23921569],\n",
       "         [0.86666667],\n",
       "         [0.98823529],\n",
       "         [1.        ],\n",
       "         [1.        ],\n",
       "         [1.        ],\n",
       "         [1.        ],\n",
       "         [1.        ],\n",
       "         [1.        ],\n",
       "         [1.        ],\n",
       "         [1.        ],\n",
       "         [1.        ],\n",
       "         [1.        ]],\n",
       "\n",
       "        [[1.        ],\n",
       "         [1.        ],\n",
       "         [1.        ],\n",
       "         [1.        ],\n",
       "         [1.        ],\n",
       "         [1.        ],\n",
       "         [1.        ],\n",
       "         [1.        ],\n",
       "         [1.        ],\n",
       "         [1.        ],\n",
       "         [0.99607843],\n",
       "         [0.89411765],\n",
       "         [0.45098039],\n",
       "         [0.02745098],\n",
       "         [0.0627451 ],\n",
       "         [0.85490196],\n",
       "         [0.98823529],\n",
       "         [1.        ],\n",
       "         [1.        ],\n",
       "         [1.        ],\n",
       "         [1.        ],\n",
       "         [1.        ],\n",
       "         [1.        ],\n",
       "         [1.        ],\n",
       "         [1.        ],\n",
       "         [1.        ],\n",
       "         [1.        ],\n",
       "         [1.        ]],\n",
       "\n",
       "        [[1.        ],\n",
       "         [1.        ],\n",
       "         [1.        ],\n",
       "         [1.        ],\n",
       "         [1.        ],\n",
       "         [1.        ],\n",
       "         [1.        ],\n",
       "         [1.        ],\n",
       "         [1.        ],\n",
       "         [1.        ],\n",
       "         [0.89411765],\n",
       "         [0.48627451],\n",
       "         [0.0627451 ],\n",
       "         [0.16470588],\n",
       "         [0.69411765],\n",
       "         [0.98039216],\n",
       "         [1.        ],\n",
       "         [1.        ],\n",
       "         [1.        ],\n",
       "         [1.        ],\n",
       "         [1.        ],\n",
       "         [1.        ],\n",
       "         [1.        ],\n",
       "         [1.        ],\n",
       "         [1.        ],\n",
       "         [1.        ],\n",
       "         [1.        ],\n",
       "         [1.        ]],\n",
       "\n",
       "        [[1.        ],\n",
       "         [1.        ],\n",
       "         [1.        ],\n",
       "         [1.        ],\n",
       "         [1.        ],\n",
       "         [1.        ],\n",
       "         [1.        ],\n",
       "         [1.        ],\n",
       "         [1.        ],\n",
       "         [1.        ],\n",
       "         [0.84313725],\n",
       "         [0.34117647],\n",
       "         [0.02745098],\n",
       "         [0.17254902],\n",
       "         [0.62352941],\n",
       "         [0.66666667],\n",
       "         [0.79215686],\n",
       "         [0.85882353],\n",
       "         [0.97254902],\n",
       "         [1.        ],\n",
       "         [1.        ],\n",
       "         [1.        ],\n",
       "         [1.        ],\n",
       "         [1.        ],\n",
       "         [1.        ],\n",
       "         [1.        ],\n",
       "         [1.        ],\n",
       "         [1.        ]],\n",
       "\n",
       "        [[1.        ],\n",
       "         [1.        ],\n",
       "         [1.        ],\n",
       "         [1.        ],\n",
       "         [1.        ],\n",
       "         [1.        ],\n",
       "         [1.        ],\n",
       "         [1.        ],\n",
       "         [1.        ],\n",
       "         [1.        ],\n",
       "         [0.90980392],\n",
       "         [0.60392157],\n",
       "         [0.31764706],\n",
       "         [0.18431373],\n",
       "         [0.17254902],\n",
       "         [0.14117647],\n",
       "         [0.17647059],\n",
       "         [0.19215686],\n",
       "         [0.22745098],\n",
       "         [0.62352941],\n",
       "         [0.9254902 ],\n",
       "         [1.        ],\n",
       "         [1.        ],\n",
       "         [1.        ],\n",
       "         [1.        ],\n",
       "         [1.        ],\n",
       "         [1.        ],\n",
       "         [1.        ]],\n",
       "\n",
       "        [[1.        ],\n",
       "         [1.        ],\n",
       "         [1.        ],\n",
       "         [1.        ],\n",
       "         [1.        ],\n",
       "         [1.        ],\n",
       "         [1.        ],\n",
       "         [1.        ],\n",
       "         [1.        ],\n",
       "         [1.        ],\n",
       "         [0.98039216],\n",
       "         [0.90588235],\n",
       "         [0.81960784],\n",
       "         [0.74509804],\n",
       "         [0.6       ],\n",
       "         [0.50588235],\n",
       "         [0.40392157],\n",
       "         [0.24705882],\n",
       "         [0.05098039],\n",
       "         [0.25882353],\n",
       "         [0.79607843],\n",
       "         [1.        ],\n",
       "         [1.        ],\n",
       "         [1.        ],\n",
       "         [1.        ],\n",
       "         [1.        ],\n",
       "         [1.        ],\n",
       "         [1.        ]],\n",
       "\n",
       "        [[1.        ],\n",
       "         [1.        ],\n",
       "         [1.        ],\n",
       "         [1.        ],\n",
       "         [1.        ],\n",
       "         [1.        ],\n",
       "         [1.        ],\n",
       "         [1.        ],\n",
       "         [1.        ],\n",
       "         [1.        ],\n",
       "         [1.        ],\n",
       "         [1.        ],\n",
       "         [1.        ],\n",
       "         [0.99607843],\n",
       "         [0.94117647],\n",
       "         [0.89803922],\n",
       "         [0.84313725],\n",
       "         [0.60784314],\n",
       "         [0.11764706],\n",
       "         [0.15294118],\n",
       "         [0.74901961],\n",
       "         [1.        ],\n",
       "         [1.        ],\n",
       "         [1.        ],\n",
       "         [1.        ],\n",
       "         [1.        ],\n",
       "         [1.        ],\n",
       "         [1.        ]],\n",
       "\n",
       "        [[1.        ],\n",
       "         [1.        ],\n",
       "         [1.        ],\n",
       "         [1.        ],\n",
       "         [1.        ],\n",
       "         [1.        ],\n",
       "         [1.        ],\n",
       "         [1.        ],\n",
       "         [1.        ],\n",
       "         [1.        ],\n",
       "         [1.        ],\n",
       "         [1.        ],\n",
       "         [1.        ],\n",
       "         [1.        ],\n",
       "         [1.        ],\n",
       "         [1.        ],\n",
       "         [1.        ],\n",
       "         [0.60392157],\n",
       "         [0.10980392],\n",
       "         [0.35686275],\n",
       "         [0.83529412],\n",
       "         [1.        ],\n",
       "         [1.        ],\n",
       "         [1.        ],\n",
       "         [1.        ],\n",
       "         [1.        ],\n",
       "         [1.        ],\n",
       "         [1.        ]],\n",
       "\n",
       "        [[1.        ],\n",
       "         [1.        ],\n",
       "         [1.        ],\n",
       "         [1.        ],\n",
       "         [1.        ],\n",
       "         [1.        ],\n",
       "         [1.        ],\n",
       "         [1.        ],\n",
       "         [1.        ],\n",
       "         [1.        ],\n",
       "         [1.        ],\n",
       "         [1.        ],\n",
       "         [1.        ],\n",
       "         [1.        ],\n",
       "         [1.        ],\n",
       "         [0.99607843],\n",
       "         [0.81568627],\n",
       "         [0.28235294],\n",
       "         [0.10588235],\n",
       "         [0.64705882],\n",
       "         [0.94901961],\n",
       "         [1.        ],\n",
       "         [1.        ],\n",
       "         [1.        ],\n",
       "         [1.        ],\n",
       "         [1.        ],\n",
       "         [1.        ],\n",
       "         [1.        ]],\n",
       "\n",
       "        [[1.        ],\n",
       "         [1.        ],\n",
       "         [1.        ],\n",
       "         [1.        ],\n",
       "         [1.        ],\n",
       "         [1.        ],\n",
       "         [1.        ],\n",
       "         [1.        ],\n",
       "         [1.        ],\n",
       "         [1.        ],\n",
       "         [1.        ],\n",
       "         [1.        ],\n",
       "         [1.        ],\n",
       "         [1.        ],\n",
       "         [0.99607843],\n",
       "         [0.95294118],\n",
       "         [0.47058824],\n",
       "         [0.05882353],\n",
       "         [0.24313725],\n",
       "         [0.82352941],\n",
       "         [1.        ],\n",
       "         [1.        ],\n",
       "         [1.        ],\n",
       "         [1.        ],\n",
       "         [1.        ],\n",
       "         [1.        ],\n",
       "         [1.        ],\n",
       "         [1.        ]],\n",
       "\n",
       "        [[1.        ],\n",
       "         [1.        ],\n",
       "         [1.        ],\n",
       "         [1.        ],\n",
       "         [1.        ],\n",
       "         [1.        ],\n",
       "         [1.        ],\n",
       "         [1.        ],\n",
       "         [1.        ],\n",
       "         [1.        ],\n",
       "         [1.        ],\n",
       "         [1.        ],\n",
       "         [1.        ],\n",
       "         [1.        ],\n",
       "         [0.98431373],\n",
       "         [0.70196078],\n",
       "         [0.17647059],\n",
       "         [0.13333333],\n",
       "         [0.56862745],\n",
       "         [0.91764706],\n",
       "         [1.        ],\n",
       "         [1.        ],\n",
       "         [1.        ],\n",
       "         [1.        ],\n",
       "         [1.        ],\n",
       "         [1.        ],\n",
       "         [1.        ],\n",
       "         [1.        ]],\n",
       "\n",
       "        [[1.        ],\n",
       "         [1.        ],\n",
       "         [1.        ],\n",
       "         [1.        ],\n",
       "         [1.        ],\n",
       "         [1.        ],\n",
       "         [1.        ],\n",
       "         [1.        ],\n",
       "         [1.        ],\n",
       "         [1.        ],\n",
       "         [1.        ],\n",
       "         [1.        ],\n",
       "         [1.        ],\n",
       "         [0.98431373],\n",
       "         [0.78431373],\n",
       "         [0.24313725],\n",
       "         [0.10980392],\n",
       "         [0.49019608],\n",
       "         [0.90980392],\n",
       "         [1.        ],\n",
       "         [1.        ],\n",
       "         [1.        ],\n",
       "         [1.        ],\n",
       "         [1.        ],\n",
       "         [1.        ],\n",
       "         [1.        ],\n",
       "         [1.        ],\n",
       "         [1.        ]],\n",
       "\n",
       "        [[1.        ],\n",
       "         [1.        ],\n",
       "         [1.        ],\n",
       "         [1.        ],\n",
       "         [1.        ],\n",
       "         [1.        ],\n",
       "         [1.        ],\n",
       "         [1.        ],\n",
       "         [1.        ],\n",
       "         [1.        ],\n",
       "         [0.97254902],\n",
       "         [0.88627451],\n",
       "         [0.85098039],\n",
       "         [0.81960784],\n",
       "         [0.27843137],\n",
       "         [0.11764706],\n",
       "         [0.43529412],\n",
       "         [0.92941176],\n",
       "         [1.        ],\n",
       "         [1.        ],\n",
       "         [1.        ],\n",
       "         [1.        ],\n",
       "         [1.        ],\n",
       "         [1.        ],\n",
       "         [1.        ],\n",
       "         [1.        ],\n",
       "         [1.        ],\n",
       "         [1.        ]],\n",
       "\n",
       "        [[1.        ],\n",
       "         [1.        ],\n",
       "         [1.        ],\n",
       "         [1.        ],\n",
       "         [1.        ],\n",
       "         [1.        ],\n",
       "         [1.        ],\n",
       "         [1.        ],\n",
       "         [1.        ],\n",
       "         [1.        ],\n",
       "         [0.89019608],\n",
       "         [0.52941176],\n",
       "         [0.30980392],\n",
       "         [0.43529412],\n",
       "         [0.14901961],\n",
       "         [0.5254902 ],\n",
       "         [0.90196078],\n",
       "         [0.99215686],\n",
       "         [1.        ],\n",
       "         [1.        ],\n",
       "         [1.        ],\n",
       "         [1.        ],\n",
       "         [1.        ],\n",
       "         [1.        ],\n",
       "         [1.        ],\n",
       "         [1.        ],\n",
       "         [1.        ],\n",
       "         [1.        ]],\n",
       "\n",
       "        [[1.        ],\n",
       "         [1.        ],\n",
       "         [1.        ],\n",
       "         [1.        ],\n",
       "         [1.        ],\n",
       "         [1.        ],\n",
       "         [1.        ],\n",
       "         [1.        ],\n",
       "         [1.        ],\n",
       "         [1.        ],\n",
       "         [0.95294118],\n",
       "         [0.68235294],\n",
       "         [0.21960784],\n",
       "         [0.49019608],\n",
       "         [0.76078431],\n",
       "         [0.98823529],\n",
       "         [1.        ],\n",
       "         [1.        ],\n",
       "         [1.        ],\n",
       "         [1.        ],\n",
       "         [1.        ],\n",
       "         [1.        ],\n",
       "         [1.        ],\n",
       "         [1.        ],\n",
       "         [1.        ],\n",
       "         [1.        ],\n",
       "         [1.        ],\n",
       "         [1.        ]],\n",
       "\n",
       "        [[1.        ],\n",
       "         [1.        ],\n",
       "         [1.        ],\n",
       "         [1.        ],\n",
       "         [1.        ],\n",
       "         [1.        ],\n",
       "         [1.        ],\n",
       "         [1.        ],\n",
       "         [1.        ],\n",
       "         [1.        ],\n",
       "         [1.        ],\n",
       "         [0.99215686],\n",
       "         [0.98823529],\n",
       "         [0.99215686],\n",
       "         [0.99607843],\n",
       "         [1.        ],\n",
       "         [1.        ],\n",
       "         [1.        ],\n",
       "         [1.        ],\n",
       "         [1.        ],\n",
       "         [1.        ],\n",
       "         [1.        ],\n",
       "         [1.        ],\n",
       "         [1.        ],\n",
       "         [1.        ],\n",
       "         [1.        ],\n",
       "         [1.        ],\n",
       "         [1.        ]]]])"
      ]
     },
     "execution_count": 89,
     "metadata": {},
     "output_type": "execute_result"
    }
   ],
   "source": [
    "img"
   ]
  },
  {
   "cell_type": "code",
   "execution_count": 90,
   "metadata": {},
   "outputs": [
    {
     "name": "stdout",
     "output_type": "stream",
     "text": [
      "[3]\n"
     ]
    }
   ],
   "source": [
    "print(model.predict_classes(img))"
   ]
  },
  {
   "cell_type": "code",
   "execution_count": null,
   "metadata": {},
   "outputs": [],
   "source": []
  },
  {
   "cell_type": "code",
   "execution_count": null,
   "metadata": {},
   "outputs": [],
   "source": []
  },
  {
   "cell_type": "code",
   "execution_count": null,
   "metadata": {},
   "outputs": [],
   "source": []
  }
 ],
 "metadata": {
  "kernelspec": {
   "display_name": "Python 3",
   "language": "python",
   "name": "python3"
  },
  "language_info": {
   "codemirror_mode": {
    "name": "ipython",
    "version": 3
   },
   "file_extension": ".py",
   "mimetype": "text/x-python",
   "name": "python",
   "nbconvert_exporter": "python",
   "pygments_lexer": "ipython3",
   "version": "3.6.5"
  }
 },
 "nbformat": 4,
 "nbformat_minor": 2
}
