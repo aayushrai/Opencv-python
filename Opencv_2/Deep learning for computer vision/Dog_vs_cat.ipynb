{
 "cells": [
  {
   "cell_type": "code",
   "execution_count": 54,
   "metadata": {},
   "outputs": [],
   "source": [
    "from keras.models import Sequential\n",
    "from keras.layers import Dense,Conv2D,MaxPooling2D,Flatten,Activation,Dropout\n",
    "from keras.datasets import mnist\n",
    "from keras.utils.np_utils import to_categorical\n",
    "import matplotlib.pyplot as plt \n",
    "import cv2\n",
    "from keras.preprocessing.image import ImageDataGenerator"
   ]
  },
  {
   "cell_type": "code",
   "execution_count": null,
   "metadata": {},
   "outputs": [],
   "source": []
  },
  {
   "cell_type": "code",
   "execution_count": null,
   "metadata": {},
   "outputs": [],
   "source": []
  },
  {
   "cell_type": "code",
   "execution_count": 55,
   "metadata": {},
   "outputs": [],
   "source": [
    "img_gen = ImageDataGenerator(rotation_range=30,width_shift_range=.1,height_shift_range=.1,rescale=1/255,shear_range=.2,zoom_range=.2,horizontal_flip=True,fill_mode=\"nearest\")"
   ]
  },
  {
   "cell_type": "code",
   "execution_count": null,
   "metadata": {},
   "outputs": [],
   "source": []
  },
  {
   "cell_type": "code",
   "execution_count": 56,
   "metadata": {},
   "outputs": [
    {
     "name": "stdout",
     "output_type": "stream",
     "text": [
      "Found 24730 images belonging to 2 classes.\n"
     ]
    },
    {
     "data": {
      "text/plain": [
       "<keras_preprocessing.image.DirectoryIterator at 0x1ed9547f780>"
      ]
     },
     "execution_count": 56,
     "metadata": {},
     "output_type": "execute_result"
    }
   ],
   "source": [
    "img_gen.flow_from_directory(\"train\")"
   ]
  },
  {
   "cell_type": "code",
   "execution_count": 57,
   "metadata": {},
   "outputs": [],
   "source": [
    "model = Sequential()\n",
    "model.add(Conv2D(filters=32,kernel_size=(3,3),input_shape=(150,150,3),activation=\"relu\"))\n",
    "model.add(MaxPooling2D(pool_size=(2,2)))\n",
    "\n",
    "model.add(Conv2D(filters=64,kernel_size=(3,3),input_shape=(150,150,3),activation=\"relu\"))\n",
    "model.add(MaxPooling2D(pool_size=(2,2)))\n",
    "\n",
    "model.add(Conv2D(filters=64,kernel_size=(3,3),input_shape=(150,150,3),activation=\"relu\"))\n",
    "model.add(MaxPooling2D(pool_size=(2,2)))\n",
    "\n",
    "model.add(Flatten())\n",
    "model.add(Dense(128))\n",
    "model.add(Activation(\"relu\"))\n",
    "\n",
    "model.add(Dropout(.5))\n",
    "model.add(Dense(1))\n",
    "model.add(Activation(\"sigmoid\"))"
   ]
  },
  {
   "cell_type": "code",
   "execution_count": 58,
   "metadata": {},
   "outputs": [],
   "source": [
    "model.compile(loss=\"binary_crossentropy\",optimizer=\"adam\",metrics=[\"accuracy\"])"
   ]
  },
  {
   "cell_type": "code",
   "execution_count": 59,
   "metadata": {},
   "outputs": [
    {
     "name": "stdout",
     "output_type": "stream",
     "text": [
      "_________________________________________________________________\n",
      "Layer (type)                 Output Shape              Param #   \n",
      "=================================================================\n",
      "conv2d_22 (Conv2D)           (None, 148, 148, 32)      896       \n",
      "_________________________________________________________________\n",
      "max_pooling2d_19 (MaxPooling (None, 74, 74, 32)        0         \n",
      "_________________________________________________________________\n",
      "conv2d_23 (Conv2D)           (None, 72, 72, 64)        18496     \n",
      "_________________________________________________________________\n",
      "max_pooling2d_20 (MaxPooling (None, 36, 36, 64)        0         \n",
      "_________________________________________________________________\n",
      "conv2d_24 (Conv2D)           (None, 34, 34, 64)        36928     \n",
      "_________________________________________________________________\n",
      "max_pooling2d_21 (MaxPooling (None, 17, 17, 64)        0         \n",
      "_________________________________________________________________\n",
      "flatten_5 (Flatten)          (None, 18496)             0         \n",
      "_________________________________________________________________\n",
      "dense_7 (Dense)              (None, 128)               2367616   \n",
      "_________________________________________________________________\n",
      "activation_7 (Activation)    (None, 128)               0         \n",
      "_________________________________________________________________\n",
      "dropout_3 (Dropout)          (None, 128)               0         \n",
      "_________________________________________________________________\n",
      "dense_8 (Dense)              (None, 1)                 129       \n",
      "_________________________________________________________________\n",
      "activation_8 (Activation)    (None, 1)                 0         \n",
      "=================================================================\n",
      "Total params: 2,424,065\n",
      "Trainable params: 2,424,065\n",
      "Non-trainable params: 0\n",
      "_________________________________________________________________\n"
     ]
    }
   ],
   "source": [
    "model.summary()"
   ]
  },
  {
   "cell_type": "code",
   "execution_count": 70,
   "metadata": {},
   "outputs": [
    {
     "name": "stdout",
     "output_type": "stream",
     "text": [
      "Found 24730 images belonging to 2 classes.\n",
      "Found 2187 images belonging to 2 classes.\n"
     ]
    }
   ],
   "source": [
    "batch_size = 25\n",
    "\n",
    "train_image_gen = img_gen.flow_from_directory(\"train\",target_size=(150,150),batch_size= batch_size,class_mode=\"binary\")\n",
    "test_image_gen = img_gen.flow_from_directory(\"test\",target_size=(150,150),batch_size= batch_size,class_mode=\"binary\")"
   ]
  },
  {
   "cell_type": "code",
   "execution_count": 71,
   "metadata": {},
   "outputs": [
    {
     "data": {
      "text/plain": [
       "{'cat': 0, 'dog': 1}"
      ]
     },
     "execution_count": 71,
     "metadata": {},
     "output_type": "execute_result"
    }
   ],
   "source": [
    "train_image_gen.class_indices"
   ]
  },
  {
   "cell_type": "code",
   "execution_count": 72,
   "metadata": {
    "scrolled": true
   },
   "outputs": [
    {
     "name": "stdout",
     "output_type": "stream",
     "text": [
      "Epoch 1/50\n",
      "100/100 [==============================] - 134s 1s/step - loss: 0.5678 - acc: 0.7084 - val_loss: 0.5658 - val_acc: 0.7088\n",
      "Epoch 2/50\n",
      "100/100 [==============================] - 132s 1s/step - loss: 0.5639 - acc: 0.7104 - val_loss: 0.6520 - val_acc: 0.6552\n",
      "Epoch 3/50\n",
      "100/100 [==============================] - 134s 1s/step - loss: 0.5518 - acc: 0.7312 - val_loss: 0.5497 - val_acc: 0.7296\n",
      "Epoch 4/50\n",
      "100/100 [==============================] - 134s 1s/step - loss: 0.5627 - acc: 0.7108 - val_loss: 0.5648 - val_acc: 0.7216\n",
      "Epoch 5/50\n",
      "100/100 [==============================] - 134s 1s/step - loss: 0.5362 - acc: 0.7368 - val_loss: 0.5321 - val_acc: 0.7408\n",
      "Epoch 6/50\n",
      "100/100 [==============================] - 134s 1s/step - loss: 0.5332 - acc: 0.7404 - val_loss: 0.5341 - val_acc: 0.7448\n",
      "Epoch 7/50\n",
      "100/100 [==============================] - 134s 1s/step - loss: 0.5596 - acc: 0.7212 - val_loss: 0.5293 - val_acc: 0.7368\n",
      "Epoch 8/50\n",
      "100/100 [==============================] - 134s 1s/step - loss: 0.5402 - acc: 0.7408 - val_loss: 0.5315 - val_acc: 0.7384\n",
      "Epoch 9/50\n",
      "100/100 [==============================] - 133s 1s/step - loss: 0.5289 - acc: 0.7428 - val_loss: 0.5288 - val_acc: 0.7368\n",
      "Epoch 10/50\n",
      "100/100 [==============================] - 138s 1s/step - loss: 0.5194 - acc: 0.7412 - val_loss: 0.5423 - val_acc: 0.7264\n",
      "Epoch 11/50\n",
      "100/100 [==============================] - 139s 1s/step - loss: 0.5038 - acc: 0.7584 - val_loss: 0.5084 - val_acc: 0.7440\n",
      "Epoch 12/50\n",
      "100/100 [==============================] - 135s 1s/step - loss: 0.5176 - acc: 0.7420 - val_loss: 0.5030 - val_acc: 0.7560\n",
      "Epoch 13/50\n",
      "100/100 [==============================] - 151s 2s/step - loss: 0.4945 - acc: 0.7636 - val_loss: 0.5010 - val_acc: 0.7560\n",
      "Epoch 14/50\n",
      "100/100 [==============================] - 166s 2s/step - loss: 0.5137 - acc: 0.7548 - val_loss: 0.4900 - val_acc: 0.7560\n",
      "Epoch 15/50\n",
      "100/100 [==============================] - 141s 1s/step - loss: 0.4967 - acc: 0.7556 - val_loss: 0.5215 - val_acc: 0.7480\n",
      "Epoch 16/50\n",
      "100/100 [==============================] - 142s 1s/step - loss: 0.5121 - acc: 0.7524 - val_loss: 0.5095 - val_acc: 0.7408\n",
      "Epoch 17/50\n",
      "100/100 [==============================] - 133s 1s/step - loss: 0.5051 - acc: 0.7556 - val_loss: 0.4833 - val_acc: 0.7680\n",
      "Epoch 18/50\n",
      "100/100 [==============================] - 133s 1s/step - loss: 0.5129 - acc: 0.7472 - val_loss: 0.4933 - val_acc: 0.7536\n",
      "Epoch 19/50\n",
      "100/100 [==============================] - 149s 1s/step - loss: 0.4783 - acc: 0.7668 - val_loss: 0.4712 - val_acc: 0.7752\n",
      "Epoch 20/50\n",
      "100/100 [==============================] - 139s 1s/step - loss: 0.4788 - acc: 0.7700 - val_loss: 0.4728 - val_acc: 0.7640\n",
      "Epoch 21/50\n",
      "100/100 [==============================] - 133s 1s/step - loss: 0.4906 - acc: 0.7600 - val_loss: 0.4685 - val_acc: 0.7656\n",
      "Epoch 22/50\n",
      "100/100 [==============================] - 143s 1s/step - loss: 0.4946 - acc: 0.7580 - val_loss: 0.4701 - val_acc: 0.7776\n",
      "Epoch 23/50\n",
      "100/100 [==============================] - 143s 1s/step - loss: 0.4692 - acc: 0.7816 - val_loss: 0.4619 - val_acc: 0.7784\n",
      "Epoch 24/50\n",
      "100/100 [==============================] - 156s 2s/step - loss: 0.4699 - acc: 0.7676 - val_loss: 0.4838 - val_acc: 0.7616\n",
      "Epoch 25/50\n",
      "100/100 [==============================] - 156s 2s/step - loss: 0.4796 - acc: 0.7652 - val_loss: 0.4531 - val_acc: 0.7936\n",
      "Epoch 26/50\n",
      "100/100 [==============================] - 158s 2s/step - loss: 0.4813 - acc: 0.7732 - val_loss: 0.4454 - val_acc: 0.7880\n",
      "Epoch 27/50\n",
      "100/100 [==============================] - 146s 1s/step - loss: 0.4741 - acc: 0.7736 - val_loss: 0.4457 - val_acc: 0.7840\n",
      "Epoch 28/50\n",
      "100/100 [==============================] - 164s 2s/step - loss: 0.4612 - acc: 0.7708 - val_loss: 0.4626 - val_acc: 0.7688\n",
      "Epoch 29/50\n",
      "100/100 [==============================] - 149s 1s/step - loss: 0.4598 - acc: 0.7780 - val_loss: 0.4478 - val_acc: 0.7800\n",
      "Epoch 30/50\n",
      "100/100 [==============================] - 144s 1s/step - loss: 0.4653 - acc: 0.7800 - val_loss: 0.5409 - val_acc: 0.7208\n",
      "Epoch 31/50\n",
      "100/100 [==============================] - 149s 1s/step - loss: 0.4679 - acc: 0.7808 - val_loss: 0.4879 - val_acc: 0.7560\n",
      "Epoch 32/50\n",
      "100/100 [==============================] - 139s 1s/step - loss: 0.4468 - acc: 0.7936 - val_loss: 0.4825 - val_acc: 0.7680\n",
      "Epoch 33/50\n",
      "100/100 [==============================] - 139s 1s/step - loss: 0.4663 - acc: 0.7840 - val_loss: 0.4645 - val_acc: 0.7840\n",
      "Epoch 34/50\n",
      "100/100 [==============================] - 139s 1s/step - loss: 0.4446 - acc: 0.7968 - val_loss: 0.4419 - val_acc: 0.7872\n",
      "Epoch 35/50\n",
      "100/100 [==============================] - 153s 2s/step - loss: 0.4607 - acc: 0.7840 - val_loss: 0.4734 - val_acc: 0.7616\n",
      "Epoch 36/50\n",
      "100/100 [==============================] - 142s 1s/step - loss: 0.4577 - acc: 0.7852 - val_loss: 0.4313 - val_acc: 0.7888\n",
      "Epoch 37/50\n",
      "100/100 [==============================] - 146s 1s/step - loss: 0.4428 - acc: 0.7824 - val_loss: 0.4133 - val_acc: 0.8072\n",
      "Epoch 38/50\n",
      "100/100 [==============================] - 185s 2s/step - loss: 0.4316 - acc: 0.8032 - val_loss: 0.4386 - val_acc: 0.7968\n",
      "Epoch 39/50\n",
      "100/100 [==============================] - 153s 2s/step - loss: 0.4642 - acc: 0.7812 - val_loss: 0.4041 - val_acc: 0.8176\n",
      "Epoch 40/50\n",
      "100/100 [==============================] - 148s 1s/step - loss: 0.4397 - acc: 0.7952 - val_loss: 0.4389 - val_acc: 0.7968\n",
      "Epoch 41/50\n",
      "100/100 [==============================] - 145s 1s/step - loss: 0.4425 - acc: 0.7900 - val_loss: 0.4087 - val_acc: 0.8016\n",
      "Epoch 42/50\n",
      "100/100 [==============================] - 152s 2s/step - loss: 0.4349 - acc: 0.8044 - val_loss: 0.4189 - val_acc: 0.8120\n",
      "Epoch 43/50\n",
      "100/100 [==============================] - 139s 1s/step - loss: 0.4409 - acc: 0.7916 - val_loss: 0.4142 - val_acc: 0.8128\n",
      "Epoch 44/50\n",
      "100/100 [==============================] - 164s 2s/step - loss: 0.4315 - acc: 0.8092 - val_loss: 0.4319 - val_acc: 0.8112\n",
      "Epoch 45/50\n",
      "100/100 [==============================] - 205s 2s/step - loss: 0.4298 - acc: 0.8080 - val_loss: 0.4072 - val_acc: 0.8096\n",
      "Epoch 46/50\n",
      "100/100 [==============================] - 193s 2s/step - loss: 0.4212 - acc: 0.8064 - val_loss: 0.4334 - val_acc: 0.8048\n",
      "Epoch 47/50\n",
      "100/100 [==============================] - 141s 1s/step - loss: 0.4308 - acc: 0.7936 - val_loss: 0.4074 - val_acc: 0.8152\n",
      "Epoch 48/50\n",
      "100/100 [==============================] - 147s 1s/step - loss: 0.4281 - acc: 0.8024 - val_loss: 0.4299 - val_acc: 0.8104\n",
      "Epoch 49/50\n",
      "100/100 [==============================] - 146s 1s/step - loss: 0.4194 - acc: 0.8012 - val_loss: 0.3900 - val_acc: 0.8224\n",
      "Epoch 50/50\n",
      "100/100 [==============================] - 148s 1s/step - loss: 0.4191 - acc: 0.8112 - val_loss: 0.4075 - val_acc: 0.8064\n"
     ]
    }
   ],
   "source": [
    "results = model.fit_generator(train_image_gen,epochs=50,steps_per_epoch=100,validation_data=test_image_gen,validation_steps=50)"
   ]
  },
  {
   "cell_type": "code",
   "execution_count": 74,
   "metadata": {},
   "outputs": [],
   "source": [
    "model.save(\"first_81.h5\")"
   ]
  },
  {
   "cell_type": "code",
   "execution_count": null,
   "metadata": {},
   "outputs": [],
   "source": []
  },
  {
   "cell_type": "code",
   "execution_count": null,
   "metadata": {},
   "outputs": [],
   "source": []
  },
  {
   "cell_type": "code",
   "execution_count": null,
   "metadata": {},
   "outputs": [],
   "source": []
  }
 ],
 "metadata": {
  "kernelspec": {
   "display_name": "Python 3",
   "language": "python",
   "name": "python3"
  },
  "language_info": {
   "codemirror_mode": {
    "name": "ipython",
    "version": 3
   },
   "file_extension": ".py",
   "mimetype": "text/x-python",
   "name": "python",
   "nbconvert_exporter": "python",
   "pygments_lexer": "ipython3",
   "version": "3.6.5"
  }
 },
 "nbformat": 4,
 "nbformat_minor": 2
}
