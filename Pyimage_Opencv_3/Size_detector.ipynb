{
 "cells": [
  {
   "cell_type": "code",
   "execution_count": 28,
   "metadata": {},
   "outputs": [],
   "source": [
    "import cv2\n",
    "import imutils\n",
    "from imutils import contours,perspective\n",
    "import matplotlib.pyplot as plt\n",
    "import numpy as np\n",
    "from scipy.spatial import distance as dist\n",
    "import time"
   ]
  },
  {
   "cell_type": "code",
   "execution_count": 29,
   "metadata": {},
   "outputs": [
    {
     "data": {
      "image/png": "[encoded data removed]",
      "text/plain": [
       "<Figure size 432x288 with 1 Axes>"
      ]
     },
     "metadata": {
      "needs_background": "light"
     },
     "output_type": "display_data"
    }
   ],
   "source": [
    "img = cv2.imread(\"test_image/size.jpg\")\n",
    "gray = cv2.cvtColor(img,cv2.COLOR_BGR2GRAY)\n",
    "plt.imshow(gray)\n",
    "blur = cv2.GaussianBlur(gray,(5,5),0)\n",
    "\n",
    "edged = cv2.Canny(blur,50,100)\n",
    "edged = cv2.dilate(edged,None,iterations=1)\n",
    "edged = cv2.erode(edged,None,iterations=1)\n",
    "plt.imshow(edged,cmap=\"gray\")\n",
    "\n",
    "cnt = cv2.findContours(edged.copy(),cv2.RETR_EXTERNAL,cv2.CHAIN_APPROX_SIMPLE)\n",
    "cnt = imutils.grab_contours(cnt)"
   ]
  },
  {
   "cell_type": "code",
   "execution_count": 30,
   "metadata": {},
   "outputs": [],
   "source": [
    "(cnt,_) = contours.sort_contours(cnt)"
   ]
  },
  {
   "cell_type": "code",
   "execution_count": 31,
   "metadata": {},
   "outputs": [],
   "source": [
    "def midpoint(ptA, ptB):\n",
    "     return ((ptA[0] + ptB[0]) * 0.5, (ptA[1] + ptB[1]) * 0.5)"
   ]
  },
  {
   "cell_type": "code",
   "execution_count": 32,
   "metadata": {},
   "outputs": [],
   "source": [
    "pixelsPerMetric= None\n",
    "for c in cnt:\n",
    "    if cv2.contourArea(c)<100:\n",
    "            continue\n",
    "    orig = img.copy()      \n",
    "    rec = cv2.minAreaRect(c)\n",
    "    rec = cv2.boxPoints(rec)\n",
    "    rec = np.array(rec,dtype=\"int\")\n",
    "    box = perspective.order_points(rec)\n",
    "    cv2.drawContours(orig,[box.astype(\"int\")],-1,(0,0,255),2)\n",
    "    for (x,y) in box:\n",
    "        cv2.circle(orig,(x,y),4,(255,0,0),-1)\n",
    "    (tl,tr,br,bl) = box\n",
    "    \n",
    "    (tltrX, tltrY) = midpoint(tl, tr)\n",
    "    (blbrX, blbrY) = midpoint(bl, br)\n",
    "    (tlblX, tlblY) = midpoint(tl, bl)\n",
    "    (trbrX, trbrY) = midpoint(tr, br)\n",
    "    \n",
    "    cv2.circle(orig, (int(tltrX), int(tltrY)), 5, (255, 0, 0), -1)\n",
    "    cv2.circle(orig, (int(blbrX), int(blbrY)), 5, (255, 0, 0), -1)\n",
    "    cv2.circle(orig, (int(tlblX), int(tlblY)), 5, (255, 0, 0), -1)\n",
    "    cv2.circle(orig, (int(trbrX), int(trbrY)), 5, (255, 0, 0), -1)\n",
    "    \n",
    "    cv2.line(orig, (int(tltrX), int(tltrY)), (int(blbrX), int(blbrY)),(255, 0, 255), 2)\n",
    "    cv2.line(orig, (int(tlblX), int(tlblY)), (int(trbrX), int(trbrY)),(255, 0, 255), 2)\n",
    "    \n",
    "    dA = dist.euclidean((tltrX, tltrY), (blbrX, blbrY))\n",
    "    dB = dist.euclidean((tlblX, tlblY), (trbrX, trbrY))\n",
    "    \n",
    "    if pixelsPerMetric is None:\n",
    "        pixelsPerMetric = dB / .995\n",
    "        \n",
    "    \n",
    "    dimA = dA / pixelsPerMetric\n",
    "    dimB = dB / pixelsPerMetric\n",
    "    \n",
    "    cv2.putText(orig, \"{:.1f}in\".format(dimB),(int(tltrX - 15), int(tltrY - 10)), cv2.FONT_HERSHEY_SIMPLEX,0.65, (255, 255, 255), 2)\n",
    "    cv2.putText(orig, \"{:.1f}in\".format(dimA),(int(trbrX + 10), int(trbrY)), cv2.FONT_HERSHEY_SIMPLEX,0.65, (255, 255, 255), 2)\n",
    " \n",
    "    cv2.imshow(\"display\",orig)\n",
    "    \n",
    "    \n",
    "    cv2.waitKey(0)\n",
    "   \n",
    "\n",
    "   \n",
    "cv2.destroyAllWindows()\n",
    "\n",
    "\n",
    "        \n",
    "        "
   ]
  },
  {
   "cell_type": "code",
   "execution_count": null,
   "metadata": {},
   "outputs": [],
   "source": []
  },
  {
   "cell_type": "code",
   "execution_count": null,
   "metadata": {},
   "outputs": [],
   "source": []
  }
 ],
 "metadata": {
  "kernelspec": {
   "display_name": "Python 3",
   "language": "python",
   "name": "python3"
  },
  "language_info": {
   "codemirror_mode": {
    "name": "ipython",
    "version": 3
   },
   "file_extension": ".py",
   "mimetype": "text/x-python",
   "name": "python",
   "nbconvert_exporter": "python",
   "pygments_lexer": "ipython3",
   "version": "3.6.8"
  }
 },
 "nbformat": 4,
 "nbformat_minor": 2
}
